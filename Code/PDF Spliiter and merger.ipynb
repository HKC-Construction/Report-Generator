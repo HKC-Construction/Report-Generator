{
 "cells": [
  {
   "cell_type": "markdown",
   "metadata": {},
   "source": [
    "## Extract Certain Pages from pdf"
   ]
  },
  {
   "cell_type": "code",
   "execution_count": 9,
   "metadata": {},
   "outputs": [
    {
     "data": {
      "application/vnd.jupyter.widget-view+json": {
       "model_id": "808638e37b4646c4aa2ee7fa375fc402",
       "version_major": 2,
       "version_minor": 0
      },
      "text/plain": [
       "VBox(children=(Label(value='Upload a PDF file to extract the 1st and 3rd pages:'), FileUpload(value=(), accept…"
      ]
     },
     "metadata": {},
     "output_type": "display_data"
    }
   ],
   "source": [
    "import PyPDF2\n",
    "import ipywidgets as widgets\n",
    "from IPython.display import display, FileLink\n",
    "from pathlib import Path\n",
    "\n",
    "# File upload widget\n",
    "file_upload = widgets.FileUpload(accept='.pdf', multiple=False)\n",
    "output_label = widgets.Label()\n",
    "download_button = widgets.Button(description=\"Download Extracted PDF\", disabled=True)\n",
    "\n",
    "# Function to extract pages\n",
    "def extract_pages(uploaded_file):\n",
    "    try:\n",
    "        # Save uploaded file to disk\n",
    "        file_name = uploaded_file.name  # Get uploaded file name\n",
    "        with open(file_name, 'wb') as f:\n",
    "            f.write(uploaded_file.content)\n",
    "        \n",
    "        # Open the PDF and extract pages\n",
    "        with open(file_name, 'rb') as pdf_file:\n",
    "            reader = PyPDF2.PdfReader(pdf_file)\n",
    "            writer = PyPDF2.PdfWriter()\n",
    "            \n",
    "            # Add the 1st and 3rd pages if they exist\n",
    "            if len(reader.pages) >= 1:\n",
    "                writer.add_page(reader.pages[0])\n",
    "            if len(reader.pages) >= 3:\n",
    "                writer.add_page(reader.pages[2])\n",
    "\n",
    "            # Save the new PDF\n",
    "            output_file_name = \"extracted_pages.pdf\"\n",
    "            with open(output_file_name, 'wb') as output_pdf:\n",
    "                writer.write(output_pdf)\n",
    "\n",
    "            output_label.value = f\"Extracted pages saved to {output_file_name}.\"\n",
    "            \n",
    "            # Make download button active\n",
    "            download_button.disabled = False\n",
    "            download_button.output_file = output_file_name\n",
    "    except Exception as e:\n",
    "        output_label.value = f\"An error occurred: {e}\"\n",
    "\n",
    "# Function to handle download\n",
    "def download_file(button):\n",
    "    try:\n",
    "        file_path = button.output_file\n",
    "        display(FileLink(file_path, result_html_prefix=\"<b>Download:</b> \"))\n",
    "    except Exception as e:\n",
    "        output_label.value = f\"An error occurred while preparing download: {e}\"\n",
    "\n",
    "# Handle file upload\n",
    "def on_upload_change(change):\n",
    "    for uploaded_file in file_upload.value:\n",
    "        extract_pages(uploaded_file)\n",
    "\n",
    "# Attach file upload change event\n",
    "file_upload.observe(on_upload_change, names='value')\n",
    "\n",
    "# Attach download button event\n",
    "download_button.on_click(download_file)\n",
    "\n",
    "# Layout the widgets\n",
    "display(widgets.VBox([\n",
    "    widgets.Label(\"Upload a PDF file to extract the 1st and 3rd pages:\"),\n",
    "    file_upload,\n",
    "    output_label,\n",
    "    download_button\n",
    "]))\n",
    "\n",
    "\n"
   ]
  },
  {
   "cell_type": "markdown",
   "metadata": {},
   "source": [
    "## Merge pdfs"
   ]
  },
  {
   "cell_type": "code",
   "execution_count": 10,
   "metadata": {},
   "outputs": [
    {
     "data": {
      "application/vnd.jupyter.widget-view+json": {
       "model_id": "6b9d1b2d1b5b4ac794526b50ddcd0dba",
       "version_major": 2,
       "version_minor": 0
      },
      "text/plain": [
       "VBox(children=(Label(value='Upload PDF files to merge them into a single document:'), FileUpload(value=(), acc…"
      ]
     },
     "metadata": {},
     "output_type": "display_data"
    }
   ],
   "source": [
    "# File upload widget\n",
    "file_upload = widgets.FileUpload(accept='.pdf', multiple=True)\n",
    "output_label = widgets.Label()\n",
    "download_button = widgets.Button(description=\"Download Merged PDF\", disabled=True)\n",
    "\n",
    "# Function to merge PDFs\n",
    "def merge_pdfs(uploaded_files):\n",
    "    try:\n",
    "        writer = PyPDF2.PdfWriter()\n",
    "\n",
    "        # Save uploaded files to disk and add their pages to the writer\n",
    "        for uploaded_file in uploaded_files:\n",
    "            file_name = uploaded_file.name\n",
    "            with open(file_name, 'wb') as f:\n",
    "                f.write(uploaded_file.content)\n",
    "\n",
    "            with open(file_name, 'rb') as pdf_file:\n",
    "                reader = PyPDF2.PdfReader(pdf_file)\n",
    "                for page in reader.pages:\n",
    "                    writer.add_page(page)\n",
    "\n",
    "        # Save the merged PDF\n",
    "        output_file_name = \"merged_document.pdf\"\n",
    "        with open(output_file_name, 'wb') as output_pdf:\n",
    "            writer.write(output_pdf)\n",
    "\n",
    "        output_label.value = f\"Merged PDF saved to {output_file_name}.\"\n",
    "\n",
    "        # Make download button active\n",
    "        download_button.disabled = False\n",
    "        download_button.output_file = output_file_name\n",
    "    except Exception as e:\n",
    "        output_label.value = f\"An error occurred: {e}\"\n",
    "\n",
    "# Function to handle download\n",
    "def download_file(button):\n",
    "    try:\n",
    "        file_path = button.output_file\n",
    "        display(FileLink(file_path, result_html_prefix=\"<b>Download:</b> \"))\n",
    "    except Exception as e:\n",
    "        output_label.value = f\"An error occurred while preparing download: {e}\"\n",
    "\n",
    "# Handle file upload\n",
    "def on_upload_change(change):\n",
    "    merge_pdfs(file_upload.value)\n",
    "\n",
    "# Attach file upload change event\n",
    "file_upload.observe(on_upload_change, names='value')\n",
    "\n",
    "# Attach download button event\n",
    "download_button.on_click(download_file)\n",
    "\n",
    "# Layout the widgets\n",
    "display(widgets.VBox([\n",
    "    widgets.Label(\"Upload PDF files to merge them into a single document:\"),\n",
    "    file_upload,\n",
    "    output_label,\n",
    "    download_button\n",
    "]))\n"
   ]
  }
 ],
 "metadata": {
  "kernelspec": {
   "display_name": "Python 3",
   "language": "python",
   "name": "python3"
  },
  "language_info": {
   "codemirror_mode": {
    "name": "ipython",
    "version": 3
   },
   "file_extension": ".py",
   "mimetype": "text/x-python",
   "name": "python",
   "nbconvert_exporter": "python",
   "pygments_lexer": "ipython3",
   "version": "3.11.9"
  }
 },
 "nbformat": 4,
 "nbformat_minor": 2
}
