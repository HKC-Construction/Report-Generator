{
 "cells": [
  {
   "cell_type": "markdown",
   "metadata": {},
   "source": [
    "## Extract Certain Pages from pdf"
   ]
  },
  {
   "cell_type": "code",
   "execution_count": 18,
   "metadata": {},
   "outputs": [
    {
     "data": {
      "application/vnd.jupyter.widget-view+json": {
       "model_id": "33fa948df3274e46b1573758efd59848",
       "version_major": 2,
       "version_minor": 0
      },
      "text/plain": [
       "VBox(children=(Label(value='Upload a PDF file to extract the 1st and 3rd pages:'), FileUpload(value=(), accept…"
      ]
     },
     "metadata": {},
     "output_type": "display_data"
    }
   ],
   "source": [
    "import PyPDF2\n",
    "import ipywidgets as widgets\n",
    "from IPython.display import display, FileLink\n",
    "from datetime import datetime\n",
    "\n",
    "# Function to get the current year and week\n",
    "def get_year_and_week():\n",
    "    \"\"\"Return the current year and week of the year as strings.\"\"\"\n",
    "    now = datetime.now()\n",
    "    year = now.strftime(\"%Y\")         # Current year\n",
    "    week_of_year = now.strftime(\"%U\") # Week number of the year\n",
    "    return year, week_of_year\n",
    "\n",
    "# File upload widget\n",
    "file_upload = widgets.FileUpload(accept='.pdf', multiple=False)\n",
    "output_label = widgets.Label()\n",
    "download_button = widgets.Button(description=\"Download PDF\", disabled=True)\n",
    "output_file_name_input = widgets.Text(description=\"File Name:\")\n",
    "generate_button = widgets.Button(description=\"Generate PDF\", disabled=True)\n",
    "\n",
    "def output_certain_pages(reader, writer, pagelist):\n",
    "    for page in pagelist:\n",
    "        if len(reader.pages) >= page:\n",
    "            writer.add_page(reader.pages[page-1])\n",
    "\n",
    "# Function to extract pages\n",
    "def extract_pages(uploaded_file, output_file_name):\n",
    "    try:\n",
    "        # Save uploaded file to disk\n",
    "        file_name = uploaded_file.name  # Get uploaded file name\n",
    "        with open(file_name, 'wb') as f:\n",
    "            f.write(uploaded_file.content)\n",
    "        \n",
    "        # Open the PDF and extract pages\n",
    "        with open(file_name, 'rb') as pdf_file:\n",
    "            reader = PyPDF2.PdfReader(pdf_file)\n",
    "            writer = PyPDF2.PdfWriter()\n",
    "            \n",
    "            # Add the 1st and 3rd pages if they exist\n",
    "            output_certain_pages(reader, writer, [1, 3])\n",
    "\n",
    "            # Ensure the output file name ends with .pdf\n",
    "            year, week = get_year_and_week()\n",
    "            output_file_name = f\"{year}-{week}-Operation-{output_file_name}\"\n",
    "            if not output_file_name.endswith('.pdf'):\n",
    "                output_file_name += '.pdf'\n",
    "            \n",
    "            # Save the new PDF\n",
    "            with open(output_file_name, 'wb') as output_pdf:\n",
    "                writer.write(output_pdf)\n",
    "\n",
    "            output_label.value = f\"Extracted pages saved to {output_file_name}.\"\n",
    "            \n",
    "            # Make download button active\n",
    "            download_button.disabled = False\n",
    "            download_button.output_file = output_file_name\n",
    "    except Exception as e:\n",
    "        output_label.value = f\"An error occurred: {e}\"\n",
    "\n",
    "# Function to handle download\n",
    "def download_file(button):\n",
    "    try:\n",
    "        file_path = button.output_file\n",
    "        display(FileLink(file_path, result_html_prefix=\"<b>Download:</b> \"))\n",
    "    except Exception as e:\n",
    "        output_label.value = f\"An error occurred while preparing download: {e}\"\n",
    "\n",
    "# Handle file upload\n",
    "def on_upload_change(change):\n",
    "    if file_upload.value:\n",
    "        generate_button.disabled = False\n",
    "\n",
    "# Handle generate button click\n",
    "def on_generate_button_click(button):\n",
    "    for uploaded_file in file_upload.value:\n",
    "        extract_pages(uploaded_file, output_file_name_input.value)\n",
    "\n",
    "# Attach file upload change event\n",
    "file_upload.observe(on_upload_change, names='value')\n",
    "\n",
    "# Attach generate button event\n",
    "generate_button.on_click(on_generate_button_click)\n",
    "\n",
    "# Attach download button event\n",
    "download_button.on_click(download_file)\n",
    "\n",
    "# Layout the widgets\n",
    "display(widgets.VBox([\n",
    "    widgets.Label(\"Upload a PDF file to extract the 1st and 3rd pages:\"),\n",
    "    file_upload,\n",
    "    output_file_name_input,\n",
    "    generate_button,\n",
    "    output_label,\n",
    "    download_button\n",
    "]))"
   ]
  }
 ],
 "metadata": {
  "kernelspec": {
   "display_name": "Python 3",
   "language": "python",
   "name": "python3"
  },
  "language_info": {
   "codemirror_mode": {
    "name": "ipython",
    "version": 3
   },
   "file_extension": ".py",
   "mimetype": "text/x-python",
   "name": "python",
   "nbconvert_exporter": "python",
   "pygments_lexer": "ipython3",
   "version": "3.11.9"
  }
 },
 "nbformat": 4,
 "nbformat_minor": 2
}
