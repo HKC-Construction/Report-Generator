{
  "nbformat": 4,
  "nbformat_minor": 0,
  "metadata": {
    "colab": {
      "provenance": []
    },
    "kernelspec": {
      "name": "python3",
      "display_name": "Python 3"
    },
    "language_info": {
      "name": "python"
    }
  },
  "cells": [
    {
      "cell_type": "code",
      "source": [
        "import os\n",
        "import zipfile\n",
        "from datetime import datetime\n",
        "import glob\n",
        "\n",
        "# Function to get the current year and week\n",
        "def get_year_and_week():\n",
        "    \"\"\"Return the current year and week of the year as strings.\"\"\"\n",
        "    now = datetime.now()\n",
        "    year = now.strftime(\"%Y\")         # Current year\n",
        "    week_of_year = now.strftime(\"%U\") # Week number of the year\n",
        "    return year, week_of_year\n",
        "\n",
        "# Function to collect files based on the naming convention\n",
        "def collect_files_by_year_week(output_dir, prefix):\n",
        "    \"\"\"Collect files in the output directory that match the naming convention.\"\"\"\n",
        "    search_pattern = os.path.join(output_dir, f\"{prefix}*\")  # Match files starting with the prefix\n",
        "    print(f\"Looking for files with pattern: {search_pattern}\")  # Debug: Show the search pattern\n",
        "    matched_files = glob.glob(search_pattern)\n",
        "    print(f\"Files found: {matched_files}\")  # Debug: List all matching files\n",
        "    return matched_files\n",
        "\n",
        "# Function to create a zip file\n",
        "def create_zip_file(file_list, zip_filename):\n",
        "    \"\"\"Create a zip file containing the specified files.\"\"\"\n",
        "    with zipfile.ZipFile(zip_filename, 'w') as zf:\n",
        "        for file in file_list:\n",
        "            zf.write(file, os.path.basename(file))\n",
        "\n",
        "# Main execution\n",
        "output_dir = os.getcwd()  # Default directory where the notebook is saved\n",
        "year, week = get_year_and_week()\n",
        "file_prefix = f\"{year}-{week}-\"  # Example prefix: \"2024-51-\"\n",
        "zip_filename = f\"{year}_{week}_Final_Dev_Report.zip\"  # Naming of file\n",
        "\n",
        "try:\n",
        "    # Collect files following the naming convention\n",
        "    matching_files = collect_files_by_year_week(output_dir, file_prefix)\n",
        "\n",
        "    # If no matching files are found, exit gracefully\n",
        "    if not matching_files:\n",
        "        print(f\"No files found matching the prefix {file_prefix} in {output_dir}.\")\n",
        "    else:\n",
        "        # Create a zip file containing the matching files\n",
        "        create_zip_file(matching_files, zip_filename)\n",
        "        print(f\"Files matching the prefix {file_prefix} have been zipped into {zip_filename}.\")\n",
        "except Exception as e:\n",
        "    print(f\"Error: {e}\")\n"
      ],
      "metadata": {
        "colab": {
          "base_uri": "https://localhost:8080/"
        },
        "id": "XuVYFUM4_xtJ",
        "outputId": "ac70e9c6-6b15-42b3-b83d-284f889165ee"
      },
      "execution_count": 13,
      "outputs": [
        {
          "output_type": "stream",
          "name": "stdout",
          "text": [
            "Scraping completed in 0.17 seconds with 1 videos fetched.\n",
            "Document saved at: ./2024-50-YouTube_Videos_Report.docx\n"
          ]
        }
      ]
    }
  ]
}