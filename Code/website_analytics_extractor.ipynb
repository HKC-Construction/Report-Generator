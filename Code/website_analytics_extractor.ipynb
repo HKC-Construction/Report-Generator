{
 "cells": [
  {
   "cell_type": "code",
   "execution_count": 58,
   "metadata": {},
   "outputs": [
    {
     "data": {
      "application/vnd.jupyter.widget-view+json": {
       "model_id": "36dc8798bb014470b8ae774a6babda85",
       "version_major": 2,
       "version_minor": 0
      },
      "text/plain": [
       "VBox(children=(Label(value='Upload your CSV file:'), FileUpload(value=(), accept='.csv', description='Upload')…"
      ]
     },
     "metadata": {},
     "output_type": "display_data"
    }
   ],
   "source": [
    "import csv\n",
    "import ipywidgets as widgets\n",
    "from IPython.display import display\n",
    "from datetime import datetime\n",
    "\n",
    "# Function to get the current year and week\n",
    "def get_year_and_week():\n",
    "    now = datetime.now()\n",
    "    year = now.strftime(\"%Y\")\n",
    "    week_of_year = now.strftime(\"%U\")\n",
    "    return year, week_of_year\n",
    "\n",
    "# Rows to extract (1-based indexing)\n",
    "ranges_to_extract = [(7, 38), (62, 69), (95, 104), (119, 132)]\n",
    "\n",
    "# File upload widget\n",
    "upload_widget = widgets.FileUpload(accept='.csv', multiple=False)\n",
    "output_label = widgets.Label()\n",
    "\n",
    "# Function to process the uploaded file\n",
    "def process_file(change):\n",
    "    # Check if a file was uploaded\n",
    "    if not upload_widget.value:\n",
    "        output_label.value = \"Please upload a CSV file.\"\n",
    "        return\n",
    "\n",
    "    uploaded_file = list(upload_widget.value)[0]\n",
    "    extracted_rows = []\n",
    "    with open(uploaded_file['name'], 'r', encoding='utf-8') as file:\n",
    "        reader = csv.reader(file)\n",
    "\n",
    "        for row_num, row in enumerate(reader, start=1):\n",
    "            # Add titles for specific rows\n",
    "            if row_num == 62:\n",
    "                extracted_rows.append(['\\nWHAT ARE YOUR TOP CAMPAIGNS'])\n",
    "            elif row_num == 95:\n",
    "                extracted_rows.append(['\\nActive users by Country'])\n",
    "            elif row_num == 119:\n",
    "                extracted_rows.append(['\\nWHICH PAGES AND SCREENS GET THE MOST VIEWS'])\n",
    "\n",
    "            # Extract rows within the specified ranges\n",
    "            for start, end in ranges_to_extract:\n",
    "                if start <= row_num <= end:\n",
    "                    extracted_rows.append(row)\n",
    "                    break\n",
    "\n",
    "    # Save extracted rows to a text file\n",
    "    year, week = get_year_and_week()\n",
    "    output_txt_path = f\"{year}-{week}-Website_Analytics.txt\"\n",
    "    with open(output_txt_path, 'w', encoding='utf-8') as output_file:\n",
    "        for row in extracted_rows:\n",
    "            output_file.write(', '.join(row) + '\\n')\n",
    "\n",
    "    output_label.value = f\"Extracted rows saved to {output_txt_path}.\"\n",
    "\n",
    "# Attach the event handler to the upload widget\n",
    "upload_widget.observe(process_file, names='value')\n",
    "\n",
    "# Display the UI\n",
    "display(widgets.VBox([\n",
    "    widgets.Label(\"Upload your CSV file:\"),\n",
    "    upload_widget,\n",
    "    output_label\n",
    "]))"
   ]
  }
 ],
 "metadata": {
  "kernelspec": {
   "display_name": "Python 3",
   "language": "python",
   "name": "python3"
  },
  "language_info": {
   "codemirror_mode": {
    "name": "ipython",
    "version": 3
   },
   "file_extension": ".py",
   "mimetype": "text/x-python",
   "name": "python",
   "nbconvert_exporter": "python",
   "pygments_lexer": "ipython3",
   "version": "3.11.9"
  }
 },
 "nbformat": 4,
 "nbformat_minor": 2
}
