{
 "cells": [
  {
   "cell_type": "code",
   "execution_count": 2,
   "metadata": {},
   "outputs": [
    {
     "data": {
      "application/vnd.jupyter.widget-view+json": {
       "model_id": "05a93e1b54db49cea395eab140edd7bb",
       "version_major": 2,
       "version_minor": 0
      },
      "text/plain": [
       "VBox(children=(Label(value='Upload an image to rename and save it:'), FileUpload(value=(), accept='image/*', d…"
      ]
     },
     "metadata": {},
     "output_type": "display_data"
    }
   ],
   "source": [
    "from datetime import datetime\n",
    "import ipywidgets as widgets\n",
    "from IPython.display import display\n",
    "from PIL import Image\n",
    "import io\n",
    "\n",
    "# Function to generate filename based on current year and week\n",
    "def generate_filename():\n",
    "    current_date = datetime.now()\n",
    "    year = current_date.year\n",
    "    week_number = current_date.isocalendar()[1]\n",
    "    filename = f\"{year}-{week_number}-SocialmediaReports\"\n",
    "    return filename\n",
    "\n",
    "def save_uploaded_image(uploaded_file):\n",
    "    try:\n",
    "        # Read image content\n",
    "        content = uploaded_file[0]['content']\n",
    "        image = Image.open(io.BytesIO(content))\n",
    "        # Save the image with the global output name\n",
    "        image_format = image.format if image.format else \"PNG\"\n",
    "        output_name = f\"{generate_filename()}.{image_format.lower()}\"\n",
    "        \n",
    "        # Save the image with the original format\n",
    "        image.save(output_name, format=image_format)\n",
    "        print(f\"Image saved as: {output_name}\")\n",
    "    except Exception as e:\n",
    "        print(f\"Error saving image: {e}\")\n",
    "\n",
    "# File upload widget\n",
    "file_upload = widgets.FileUpload(accept='image/*', multiple=False)\n",
    "output_label = widgets.Label()\n",
    "\n",
    "# Handle file upload automatically\n",
    "def on_file_upload(change):\n",
    "    uploaded_files = file_upload.value\n",
    "    if not uploaded_files:\n",
    "        output_label.value = \"No file uploaded. Please upload an image.\"\n",
    "        return\n",
    "    \n",
    "    # Save the uploaded image\n",
    "    save_uploaded_image(uploaded_files)\n",
    "    output_label.value = f\"Image successfully saved as {generate_filename()}.\"\n",
    "\n",
    "# Attach file upload change event\n",
    "file_upload.observe(on_file_upload, names='value')\n",
    "\n",
    "# Layout the widgets\n",
    "display(widgets.VBox([\n",
    "    widgets.Label(\"Upload an image to rename and save it:\"),\n",
    "    file_upload,\n",
    "    output_label\n",
    "]))\n"
   ]
  }
 ],
 "metadata": {
  "kernelspec": {
   "display_name": "Python 3",
   "language": "python",
   "name": "python3"
  },
  "language_info": {
   "codemirror_mode": {
    "name": "ipython",
    "version": 3
   },
   "file_extension": ".py",
   "mimetype": "text/x-python",
   "name": "python",
   "nbconvert_exporter": "python",
   "pygments_lexer": "ipython3",
   "version": "3.11.9"
  }
 },
 "nbformat": 4,
 "nbformat_minor": 2
}
